{
 "cells": [
  {
   "cell_type": "markdown",
   "metadata": {},
   "source": [
    "# COGS 108 - Project Proposal"
   ]
  },
  {
   "cell_type": "markdown",
   "metadata": {},
   "source": [
    "# Names\n",
    "\n",
    "- Jaden Urias\n",
    "- Andrew Hahn\n",
    "- Sydney Nichol\n",
    "- Katie Kim\n",
    "- Aiden Carbonell"
   ]
  },
  {
   "cell_type": "markdown",
   "metadata": {},
   "source": [
    "# Research Question"
   ]
  },
  {
   "cell_type": "markdown",
   "metadata": {},
   "source": [
    "-  Include a specific, clear data science question.\n",
    "-  Make sure what you're measuring (variables) to answer the question is clear\n",
    "\n",
    "Does an NBA team's number of wins/performance in the regular season influence the average number of attendants during 2001-2024 NBA seasons? Performance refers to the team's wins in both home and away games. \n",
    "\n"
   ]
  },
  {
   "cell_type": "markdown",
   "metadata": {},
   "source": [
    "## Background and Prior Work"
   ]
  },
  {
   "cell_type": "markdown",
   "metadata": {},
   "source": [
    "\n",
    "- Include a general introduction to your topic\n",
    "- Include explanation of what work has been done previously\n",
    "- Include citations or links to previous work\n",
    "\n",
    "During an NBA game, each team sends five players to battle it out on the court, showcasing their skills and strategy to determine who’s better. But what about the invisible sixth man in the arena: the fans? Beyond the players and coaches, does the energy and sheer presence of fans affect a team’s performance? And in turn, does a team’s success on the court bring more fans into the stands? We will set out to cover this symbiotic relationship between team performance and attendance numbers by aiming to answer the question of if an NBA team’s performance will influence the number of attendants during the 2001-2024 seasons. We have found this to be an interesting topic as fans of the NBA since it would be insightful to see if there is correlation between how good a team is and how many fans there are to witness the games in person. Outside of our own love for the game, we figure that this research project will help answer other questions regarding the NBA such as if home court advantage matters, how a team’s players and marketability of those players affect attendance, and how a team’s attendance numbers can fluctuate over time due to how a team is performing. \n",
    "\n",
    "In a previous study conducted by Chenzao Wang in 2024 called “The Effect of NBA Attendance on Team’s Performance”<a name=\"cite_ref-1\"></a>[<sup>1</sup>](#cite_note-1), they covered the impact of attendance on team performance during the 2020-2021 NBA season in comparison to regular NBA seasons. The 2020-2021 was the season that got hit by COVID-19 complications in the middle of the playoffs, moving 22 NBA teams to closed arenas in Orlando, Florida, dubbed the “Bubble” era of the NBA. During this time audiences were very limited (only consisting of close friends, family, and staff), and there wasn’t really a home-court advantage as every team played in the same arena in Orlando (there was only one team that could have potentially benefited from “home court advantage”, the Orlando Magic). Wang took the stats of all 30 NBA teams from 2015-2022 (Field Goal Percentage, Free Throws Made, etc.) and the attendance numbers of the 2020-2021 “Bubble” season and analyzed them to see if there was a difference in team performance when there were fans in attendance and little to no fans in attendance. The study concluded in finding there was a slight advantage to home teams when they had audiences present (normal NBA seasons), and home court advantage was less obvious when there were no audiences (COVID season). This finding supports the theory that NBA team performance is positively affected by the fans in attendance. \n",
    "\n",
    "The influence of star players on NBA attendance has also been well-documented as Metcalfe (2013)<a name=\"cite_ref-2\"></a>[<sup>2</sup>](#cite_note-2) explored the impact of \"star power\" on fan attendance in his paper \"NBA Star Power: Impact on Attendance.\" This study examined how having highly skilled or well-known players on a team affects fan turnout, analyzing data over several seasons. Metcalfe’s findings suggested that star players are a significant driver of attendance, as fans are more likely to attend games featuring popular or top-performing athletes. This concept of \"star power\" extends beyond wins and losses, suggesting that fans often view games as an opportunity to see high-profile athletes perform, regardless of the team’s overall record. By examining this factor, Metcalfe’s study sheds light on how audience patterns might align with elements outside of win-loss records, offering a framework for our research as we investigate how team success (wins across both home and away games) relates to attendance across a longer timeline. This background suggests that while an increase in wins might boost attendance, accounting for star presence and team market size will be crucial in creating an accurate model for our research question, which examines 2001-2024 data to assess the broader relationship between team performance and fan engagement.\n",
    "\n",
    "1. <a name=\"cite_note-1\"></a> [^](#cite_ref-1) Chenzao, W. (14 Aug 2024) The Effect of NBA Attendance on Teams’ Performance. *New York University*. https://doi.org/10.61173/7bfxp829\n",
    "2. <a name=\"cite_note-2\"></a> [^](#cite_ref-2) Metcalfe, C. (2013) NBA Star Power: Impact on Attendance. *St. John Fisher University*. https://fisherpub.sjf.edu/cgi/viewcontent.cgi?article=1089&context=sport_undergrad"
   ]
  },
  {
   "cell_type": "markdown",
   "metadata": {},
   "source": [
    "# Hypothesis\n"
   ]
  },
  {
   "cell_type": "markdown",
   "metadata": {},
   "source": [
    "\n",
    "- Put your hypothesis here, this is different than your question. This what you think the answer will be \n",
    "- Ensure that this hypothesis is clear to readers\n",
    "- Explain why you think this will be the outcome (what was your thinking?)\n",
    "\n",
    "We hypothesize that an NBA team’s performance is positively correlated with game attendance. We predict that the teams with better performance metrics will see a higher average attendance. The performance metrics we will base on are higher number of wins and improved Elo ratings. We also anticipate that this correlation may vary depending on whether the game was at home or away, where there is a strong correlation for home games due to the support of the local fan base. Our main prediction is that team performance and attendance have a positive relationship, with attendance likely increasing as team performance improves throughout the season."
   ]
  },
  {
   "cell_type": "markdown",
   "metadata": {},
   "source": [
    "# Data"
   ]
  },
  {
   "cell_type": "markdown",
   "metadata": {},
   "source": [
    "1. Explain what the **ideal** dataset you would want to answer this question. (This should include: What variables? How many observations? Who/what/how would these data be collected? How would these data be stored/organized?)\n",
    "1. Search for potential **real** datasets that could provide you with something useful for this project.  You do not have to find every piece of data you will use, but you do need to have demonstrated some idea that (a) this data is gettable and (b) that this data may be different from what your ideal is.\n",
    "\n",
    "In order to investigate whether a team’s number of wins affects attendance, the ideal dataset would have data gathered from all games and seasons from 2001-2024 with information regarding team performance and attendees in the audience. Specifically, the dataset should include:<br>\n",
    "\n",
    "Variables\n",
    "<br>\n",
    "<br> \n",
    "Team Performance Metrics:\n",
    "<br> \n",
    "Total wins in the regular season<br> \n",
    "Home wins vs away wins: To account for venues having an effect on attendance.<br> \n",
    "Final scores and game outcomes: Wins and losses.<br> \n",
    "Team Elo Rating taken from the FiveThirtyEight NBA Elo dataset: To get a calculated number for each team’s performance rating<br> \n",
    "<br>\n",
    "<br>\n",
    "Attendance Data:<br> \n",
    "        Number of attendees for each game<br> \n",
    "        Average attendance per season       <br> \n",
    "<br>\n",
    "    Other Control Variables:<br> \n",
    "        Game location: Home or away.<br> \n",
    "       Arena Capacity: To control for differences in the size of stadiums.<br> \n",
    "        City Population: To infer market size, which affects size of fanbase.<br> \n",
    "        Ticket Prices: If possible to gather, to control for economic factors.<br> \n",
    "<br> \n",
    "Observations Needed<br> \n",
    "<br> \n",
    "    Seasons: 24 seasons from 2001-2024.<br> \n",
    "    Teams: 30 NBA teams per season.<br> \n",
    "    Games: Approximately 1,230 games per season for 30 teams (each team plays 82 games, (30 teams x 82 games)/2 = 1,230) over 24 seasons results in **29,520** game-level observations (1,230 games x 24 seasons = 29,520)<br> \n",
    "    Data storage: We plan to extract data regarding performance and attendance season-level and game-level from our sources, and use team names and seasons as common keys to merge the datasets. We will retrieve win/loss data from the game-level dataset to match the season-level attendance data. Data can be stored in CSV files to easily merge and read.<br> \n",
    "<br> \n",
    "Currently Available Datasets:\n",
    "\n",
    "NBA Game Statistics from Basketball-Reference\n",
    "    (https://www.basketball-reference.com/)\n",
    "    Basketball-Reference provides comprehensive game data for each season, including game location (home or away), final scores, and team stats. You can scrape or download this data for multiple seasons.<br> \n",
    "    Limitations: Does not contain attendance figures directly, so will have to be merged with attendance data from other sources.<br> \n",
    "<br> \n",
    "FiveThirtyEight NBA Elo Dataset<br> \n",
    "   (https://www.kaggle.com/datasets/fivethirtyeight/fivethirtyeight-nba-elo-dataset/data)\n",
    "    FiveThirtyEight’s NBA Elo dataset is another good resource. It includes team Elo ratings, game outcomes, and locations, which can be helpful if you want to add a predictive model based on historical team strength. Data is downloadable.<br> \n",
    "    Limitations: Does not contain attendance data.<br> \n",
    "<br> \n",
    "NBA Attendance Report (2001-2025)\n",
    "    (https://www.espn.com/nba/attendance/_/year/2023/sort/allAvg)<br> \n",
    "    ESPN provides season-level attendance averages and total attendance per team per season, which supplies the attendance variable necessary to examine the hypothesis.<br> \n",
    "    Limitations: Aggregated at the season level, so can’t assess individual game-level attendance patterns.<br> \n",
    "<br> \n",
    "Basketball-Reference League Standings<br> \n",
    "(https://www.basketball-reference.com/leagues/NBA_2023_standings.html)<br> \n",
    "Contains season-level performance summaries.\n",
    "Limitation: Not specific enough for game-level data.<br> \n",
    "Overall, we lack data containing game-level attendance, and ticket prices.<br> \n",
    "<br> "
   ]
  },
  {
   "cell_type": "markdown",
   "metadata": {},
   "source": [
    "# Ethics & Privacy"
   ]
  },
  {
   "cell_type": "markdown",
   "metadata": {},
   "source": [
    "5-time champion and NBA Hall-of-Famer Dennis Rodman once described the game of basketball as being simple, but quickly becomes complicated when considering the many factors that come when playing basketball in the NBA.<br>\n",
    "<br>\n",
    "In similar fashion, there are several factors that we realize make our project more complex as they could potentially limit the validity of our study:<br>\n",
    "<br>\n",
    "-Quality of attendance: Of the thousands of fans that attend games, often there are some in attendance that are there to support the away team as opposed to the home. Also different stadiums have different capacities.<br>\n",
    "-Major events: The cities in which teams play out sometimes undergo major events that are local (like the creation of a new stadium) or shared across other teams (COVID-19 pandemic). These events can be potential confounds affecting attendance.<br>\n",
    "-Financial situation of the fans: The cities that hold NBA teams do not necessarily share the same economic status. The cost of attendance can vary from team to team as can the economic indicators from city to city. <br>\n",
    "<br>\n",
    "There are several processes we aim to take to mitigate the impact these aforementioned factors may have:<br>\n",
    "<br>\n",
    "-Benchmarking attendance by a stadium’s capacity: To better compare attendance rates across the different teams, a team’s attendance could be measured by taking the proportion of attendees and maximum capacity for a team’s arena<br>\n",
    "-Segmenting data before/during/after major events: With major events like the COVID pandemic and the NBA lockout (2011-2012 season in which there was a shortage of games), certain seasons could be parsed out if broader factors limiting attendance are at play.<br>\n",
    "-We could possibly also look deeper into individual teams that experienced a local major event (such as the 2019-2020 Golden State Warriors, who played out of Chase Center for the first time) to determine if the event played a role in attendance rather than performance alone<br>\n",
    "-Implementation of control variables like economic indicators: By looking at economic indicators (unemployment rate, city population, cost of attendance, etc.), we could control for some external factors at play.<br>\n",
    "<br>\n",
    "Thoughtful discussion of ethical concerns included:<br>\n",
    "<br>\n",
    "Ethical concerns consider the whole data science process (question asked, data collected, data being used, the bias in data, analysis, post-analysis, etc.)<br>\n",
    "How your group handled bias/ethical concerns clearly described<br>\n",
    "<br>\n",
    "Acknowledge and address any ethics & privacy related issues of your question(s), proposed dataset(s), and/or analyses. Use the information provided in lecture to guide your group discussion and thinking. If you need further guidance, check out Deon's Ethics Checklist. In particular:<br>\n",
    "<br>\n",
    "Are there any biases/privacy/terms of use issues with the data you proposed?<br>\n",
    "<br>\n",
    "-ESPN's attendance data is intended for individual use, and scraping or republishing may violate its terms, may need to apply for access to scrape or obtain data from these sources.<br>\n",
    "-Because the attendance data does not differentiate between home and away fans, the count may inaccurately represent fan loyalty to the home team.<br>\n",
    "<br>\n",
    "Are there potential biases in your dataset(s), in terms of who it composes, and how it was collected, that may be problematic in terms of it allowing for equitable analysis? (For example, does your data exclude particular populations, or is it likely to reflect particular human biases in a way that could be a problem?)<br>\n",
    "<br>\n",
    "-Current data we have found does not specify the percentage of fans that attend a game for the home team/away team<br>\n",
    "-Major events that could impact a team’s attendance <br>\n",
    "-Cost of attendance varies from stadium to stadium and income levels vary from city to city<br>\n",
    "<br>\n",
    "How will you set out to detect these specific biases before, during, and after/when communicating your analysis?<br>\n",
    "<br>\n",
    "-Segmenting data before/during/after major events<br>\n",
    "-Implementation of control variables like economic indicators<br>\n",
    "-Excluding outlier seasons<br>\n",
    "-Benchmarking attendance by stadium capacity<br>\n",
    "-Possibly looking deeper into individual teams that experienced a unique major event to determine if the event played a role in attendance rather than performance alone<br>\n",
    "<br>\n",
    "Are there any other issues related to your topic area, data, and/or analyses that are potentially problematic in terms of data privacy and equitable impact?<br>\n",
    "<br>\n",
    "Yes <br>\n",
    "<br>\n",
    "How will you handle issues you identified?<br>\n",
    "<br>\n",
    "-We will only use publicly available aggregate data without personally identifiable information, mitigating any privacy risks.<br>\n",
    "-To address certain bias we will benchmark attendance as a proportion of stadium capacity to standardize comparisons across teams with different arena sizes.<br>\n",
    "<br>\n"
   ]
  },
  {
   "cell_type": "markdown",
   "metadata": {},
   "source": [
    "# Team Expectations "
   ]
  },
  {
   "cell_type": "markdown",
   "metadata": {},
   "source": [
    "\n",
    "Read over the [COGS108 Team Policies](https://github.com/COGS108/Projects/blob/master/COGS108_TeamPolicies.md) individually. Then, include your group’s expectations of one another for successful completion of your COGS108 project below. Discuss and agree on what all of your expectations are. Discuss how your team will communicate throughout the quarter and consider how you will communicate respectfully should conflicts arise. By including each member’s name above and by adding their name to the submission, you are indicating that you have read the COGS108 Team Policies, accept your team’s expectations below, and have every intention to fulfill them. These expectations are for your team’s use and benefit — they won’t be graded for their details.\n",
    "\n",
    "* Team Communication:\n",
    "Our main communication channels will be Zoom, text, and email. We’ll meet in person weekly to discuss current and upcoming tasks, with virtual meetings as needed to stay on track. We expect responses within 24 hours to maintain progress.\n",
    "* Tone & Feedback:\n",
    "Our approach will be honest but polite, encouraging direct, respectful feedback to keep ideas flowing and ensure everyone’s voice is heard. If someone spots a gap, they’ll bring it up constructively, and others will contribute their perspectives.\n",
    "\n",
    "* Decision-Making:\n",
    "Jaden Urias will serve as team lead, guiding the group’s progress. Most decisions will be made unanimously, but Jaden will facilitate when needed. If someone is temporarily unavailable, work will continue within designated pairs or trios, ensuring continuity and support.\n",
    "\n",
    "* Task Assignments:\n",
    "Each member will focus on tasks aligned with their strengths (e.g., programming, research). Jaden Urias (leadership/editing/research), Andrew Hahn (programming), Katie Kim (programming/research), Sydney Nichol (fill), and Aiden Carbonell (fill) will coordinate their roles weekly. Task tracking will be managed via GitHub Issues.\n",
    "\n",
    "* Timeline & Support:\n",
    "Our project timeline is structured but flexible, allowing us to adapt as needed. Paired assignments will help members support each other, so if someone needs assistance, they can rely on their partner or seek help through group chat after a reasonable effort.\n",
    "\n",
    "* Expectations Reminder:\n",
    "These guidelines will be pinned in our Discord group for reference throughout the project.\n"
   ]
  },
  {
   "cell_type": "markdown",
   "metadata": {},
   "source": [
    "# Project Timeline Proposal \n",
    "(Subject to Change)"
   ]
  },
  {
   "cell_type": "markdown",
   "metadata": {},
   "source": [
    "Specify your team's specific project timeline. An example timeline has been provided. Changes the dates, times, names, and details to fit your group's plan.\n",
    "\n",
    "If you think you will need any special resources or training outside what we have covered in COGS 108 to solve your problem, then your proposal should state these clearly. For example, if you have selected a problem that involves implementing multiple neural networks, please state this so we can make sure you know what you’re doing and so we can point you to resources you will need to implement your project. Note that you are not required to use outside methods.\n",
    "\n",
    "\n",
    "\n",
    "| Meeting Date  | Meeting Time| Completed Before Meeting  | Discuss at Meeting |\n",
    "|---|---|---|---|\n",
    "| 10/30  | 1 PM | Discuss ideal dataset(s) and ethics; draft project proposal | Edit, finalize, and submit proposal; Search for datasets |\n",
    "| 11/6  |  1 PM |  Assign group members to lead each specific part | Discuss Wrangling and possible analytical approaches | \n",
    "| 11/13 | 1 PM  | Import & Wrangle Data; EDA  | Review/Edit wrangling/EDA; Discuss Analysis Plan   |\n",
    "| 11/20  | 1 PM  | Finalize wrangling/EDA; Begin Analysis | Discuss/edit Analysis; Complete project check-in   |\n",
    "| 11/27  | 1 PM  | Complete analysis; Draft results/conclusion/discussion | Discuss/edit full project |\n",
    "| 12/4  | 1 PM  | Finalize project review by everyone| Discuss thoughts on completed project |\n",
    "| 12/11  | Before 11:59 PM  | NA | Turn in Final Project & Group Project Surveys |"
   ]
  }
 ],
 "metadata": {
  "kernelspec": {
   "display_name": "Python 3 (ipykernel)",
   "language": "python",
   "name": "python3"
  },
  "language_info": {
   "codemirror_mode": {
    "name": "ipython",
    "version": 3
   },
   "file_extension": ".py",
   "mimetype": "text/x-python",
   "name": "python",
   "nbconvert_exporter": "python",
   "pygments_lexer": "ipython3",
   "version": "3.9.7"
  }
 },
 "nbformat": 4,
 "nbformat_minor": 2
}
