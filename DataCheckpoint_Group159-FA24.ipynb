{
 "cells": [
  {
   "cell_type": "markdown",
   "metadata": {},
   "source": [
    "**If you lost points on the last checkpoint you can get them back by responding to TA/IA feedback**  \n",
    "\n",
    "Update/change the relevant sections where you lost those points, make sure you respond on GitHub Issues to your TA/IA to call their attention to the changes you made here.\n",
    "\n",
    "Please update your Timeline... no battle plan survives contact with the enemy, so make sure we understand how your plans have changed."
   ]
  },
  {
   "cell_type": "markdown",
   "metadata": {},
   "source": [
    "# COGS 108 - Data Checkpoint"
   ]
  },
  {
   "cell_type": "markdown",
   "metadata": {},
   "source": [
    "# Names\n",
    "\n",
    "- Jaden Urias\n",
    "- Andrew Hahn\n",
    "- Sydney Nichol\n",
    "- Katie Kim\n",
    "- Aiden Carbonell"
   ]
  },
  {
   "cell_type": "markdown",
   "metadata": {},
   "source": [
    "# Research Question"
   ]
  },
  {
   "cell_type": "markdown",
   "metadata": {},
   "source": [
    "-  Include a specific, clear data science question.\n",
    "-  Make sure what you're measuring (variables) to answer the question is clear\n",
    "\n",
    "Does an NBA team's number of wins/performance in the regular season influence the average number of attendants during 2001-2024 NBA seasons? Performance refers to the team's wins in both home and away games.\n",
    "\n"
   ]
  },
  {
   "cell_type": "markdown",
   "metadata": {},
   "source": [
    "## Background and Prior Work"
   ]
  },
  {
   "cell_type": "markdown",
   "metadata": {},
   "source": [
    "\n",
    "- Include a general introduction to your topic\n",
    "- Include explanation of what work has been done previously\n",
    "- Include citations or links to previous work\n",
    "\n",
    "During an NBA game, each team sends five players to battle it out on the court, showcasing their skills and strategy to determine who’s better. But what about the invisible sixth man in the arena: the fans? Beyond the players and coaches, does the energy and sheer presence of fans affect a team’s performance? And in turn, does a team’s success on the court bring more fans into the stands? We will set out to cover this symbiotic relationship between team performance and attendance numbers by aiming to answer the question of if an NBA team’s performance will influence the number of attendants during the 2001-2024 seasons. We have found this to be an interesting topic as fans of the NBA since it would be insightful to see if there is correlation between how good a team is and how many fans there are to witness the games in person. Outside of our own love for the game, we figure that this research project will help answer other questions regarding the NBA such as if home court advantage matters, how a team’s players and marketability of those players affect attendance, and how a team’s attendance numbers can fluctuate over time due to how a team is performing. \n",
    "\n",
    "In a previous study conducted by Chenzao Wang in 2024 called “The Effect of NBA Attendance on Team’s Performance”<a name=\"cite_ref-1\"></a>[<sup>1</sup>](#cite_note-1), they covered the impact of attendance on team performance during the 2020-2021 NBA season in comparison to regular NBA seasons. The 2020-2021 was the season that got hit by COVID-19 complications in the middle of the playoffs, moving 22 NBA teams to closed arenas in Orlando, Florida, dubbed the “Bubble” era of the NBA. During this time audiences were very limited (only consisting of close friends, family, and staff), and there wasn’t really a home-court advantage as every team played in the same arena in Orlando (there was only one team that could have potentially benefited from “home court advantage”, the Orlando Magic). Wang took the stats of all 30 NBA teams from 2015-2022 (Field Goal Percentage, Free Throws Made, etc.) and the attendance numbers of the 2020-2021 “Bubble” season and analyzed them to see if there was a difference in team performance when there were fans in attendance and little to no fans in attendance. The study concluded in finding there was a slight advantage to home teams when they had audiences present (normal NBA seasons), and home court advantage was less obvious when there were no audiences (COVID season). This finding supports the theory that NBA team performance is positively affected by the fans in attendance. \n",
    "\n",
    "The influence of star players on NBA attendance has also been well-documented as Metcalfe (2013)<a name=\"cite_ref-2\"></a>[<sup>2</sup>](#cite_note-2) explored the impact of \"star power\" on fan attendance in his paper \"NBA Star Power: Impact on Attendance.\" This study examined how having highly skilled or well-known players on a team affects fan turnout, analyzing data over several seasons. Metcalfe’s findings suggested that star players are a significant driver of attendance, as fans are more likely to attend games featuring popular or top-performing athletes. This concept of \"star power\" extends beyond wins and losses, suggesting that fans often view games as an opportunity to see high-profile athletes perform, regardless of the team’s overall record. By examining this factor, Metcalfe’s study sheds light on how audience patterns might align with elements outside of win-loss records, offering a framework for our research as we investigate how team success (wins across both home and away games) relates to attendance across a longer timeline. This background suggests that while an increase in wins might boost attendance, accounting for star presence and team market size will be crucial in creating an accurate model for our research question, which examines 2001-2024 data to assess the broader relationship between team performance and fan engagement.\n",
    "\n",
    "1. <a name=\"cite_note-1\"></a> [^](#cite_ref-1) Chenzao, W. (14 Aug 2024) The Effect of NBA Attendance on Teams’ Performance. *New York University*. https://doi.org/10.61173/7bfxp829\n",
    "2. <a name=\"cite_note-2\"></a> [^](#cite_ref-2) Metcalfe, C. (2013) NBA Star Power: Impact on Attendance. *St. John Fisher University*. https://fisherpub.sjf.edu/cgi/viewcontent.cgi?article=1089&context=sport_undergrad\n"
   ]
  },
  {
   "cell_type": "markdown",
   "metadata": {},
   "source": [
    "# Hypothesis\n"
   ]
  },
  {
   "cell_type": "markdown",
   "metadata": {},
   "source": [
    "\n",
    "- Include your team's hypothesis\n",
    "- Ensure that this hypothesis is clear to readers\n",
    "- Explain why you think this will be the outcome (what was your thinking?)\n",
    "\n",
    "We hypothesize that an NBA team’s performance is positively correlated with game attendance. We predict that the teams with better performance metrics will see a higher average attendance. The performance metrics we will base on are higher number of wins and improved Elo ratings. \n",
    "We also anticipate that this correlation may vary depending on whether the game was at home or away, where there is a stronger correlation for home games due to the support of the local fan base. Also, we take into account some other confounding variables, such as team funding as well as city population. We predict a stronger correlation for the teams with higher budgets or located in densely populated cities. \n",
    "Our main prediction is that team performance and attendance have a positive relationship, with attendance likely increasing as team performance improves throughout the season."
   ]
  },
  {
   "cell_type": "markdown",
   "metadata": {},
   "source": [
    "# Data"
   ]
  },
  {
   "cell_type": "markdown",
   "metadata": {},
   "source": [
    "## Data overview\n",
    "\n",
    "For each dataset include the following information\n",
    "- Dataset #1\n",
    "  - Dataset Name: Basketball-Reference League Standings\n",
    "  - Link to the dataset: https://www.basketball-reference.com/leagues/NBA_2023_standings.html \n",
    "  - Number of observations: 687\n",
    "  - Number of variables: 12\n",
    "- Dataset #2\n",
    "  - Dataset Name: NBA Attendance Report (2001-2023)\n",
    "  - Link to the dataset: https://www.espn.com/nba/attendance/_/year/2023/sort/allAvg\n",
    "  - Number of observations: 686\n",
    "  - Number of variables: 13\n",
    "- Dataset #3\n",
    "  - Dataset Name: FiveThirtyEight NBA Elo\n",
    "  - Link to the dataset: https://www.kaggle.com/datasets/fivethirtyeight/fivethirtyeight-nba-elo-dataset/data \n",
    "  - Number of observations: \n",
    "  - Number of variables: \n",
    "\n",
    "The first dataset we used was from Basketball Reference’s NBA Standings. This dataset contains the yearly standings and performance metrics of NBA teams, focusing on their win-loss records each season. Important variables include the team name, year, number of wins and losses, as well as home and away records. While the team name is stored as a string, the rest of the variables are represented as integers. The variables in this dataset serve as proxies for team performance and competitive strength. The number of wins provides a straightforward measure of a team’s success over a season, while home and away records can reflect not only performance but also the impact of home-court advantage. Additionally, these metrics may indirectly capture team consistency and popularity, as more successful teams often draw larger fan bases and higher attendance. By examining these variables, we gain insights into both quantitative performance and qualitative aspects, such as fan engagement and team reputation. Data wrangling might include cleaning season-specific records, converting data types for consistency, and handling any missing values for partial seasons.\n",
    "\n",
    "We then used a dataset extracted from the NBA Attendance Report from years 2001-2023, which contains 686 observations spanning over 22 seasons and 13 variables. The key variables include team name, year, games played, total home game attendance, average attendance per home/road game, and the percentage of arena capacity. Metrics like the total home game attendance, average home game attendance numbers serve as a proxy for fan engagement, while percentage of arena capacity indicates how well teams fill their arenas. The variable of games played is a performance metric and could be cross referenced with a dataset containing wins to examine the correlation with attendance. This dataset will need to be preprocessed, for starting from 2012-2023, the percentage of arena capacity changes its percentage format, and needs to be converted into its decimal form. This will allow all the numeric variables to be properly formatted for analysis. Like I said before, we plan to merge this dataset with a dataset containing performance metrics, using team name and year, to allow a deeper analysis of the relationship between performance and attendance. \n",
    "\n",
    "Lastly we used __"
   ]
  },
  {
   "cell_type": "markdown",
   "metadata": {},
   "source": [
    "## Basketball-Reference League Standings Dataset"
   ]
  },
  {
   "cell_type": "code",
   "execution_count": 42,
   "metadata": {},
   "outputs": [
    {
     "data": {
      "text/html": [
       "<div>\n",
       "<style scoped>\n",
       "    .dataframe tbody tr th:only-of-type {\n",
       "        vertical-align: middle;\n",
       "    }\n",
       "\n",
       "    .dataframe tbody tr th {\n",
       "        vertical-align: top;\n",
       "    }\n",
       "\n",
       "    .dataframe thead th {\n",
       "        text-align: right;\n",
       "    }\n",
       "</style>\n",
       "<table border=\"1\" class=\"dataframe\">\n",
       "  <thead>\n",
       "    <tr style=\"text-align: right;\">\n",
       "      <th></th>\n",
       "      <th>Rk</th>\n",
       "      <th>Team</th>\n",
       "      <th>Overall</th>\n",
       "      <th>Home</th>\n",
       "      <th>Road</th>\n",
       "      <th>E</th>\n",
       "      <th>W</th>\n",
       "      <th>Pre</th>\n",
       "      <th>Post</th>\n",
       "      <th>?3</th>\n",
       "      <th>?10</th>\n",
       "      <th>Year</th>\n",
       "    </tr>\n",
       "  </thead>\n",
       "  <tbody>\n",
       "    <tr>\n",
       "      <th>0</th>\n",
       "      <td>1</td>\n",
       "      <td>Sacramento Kings</td>\n",
       "      <td>61-21</td>\n",
       "      <td>36-5</td>\n",
       "      <td>25-16</td>\n",
       "      <td>24-6</td>\n",
       "      <td>37-15</td>\n",
       "      <td>37-12</td>\n",
       "      <td>24-9</td>\n",
       "      <td>6-1</td>\n",
       "      <td>39-15</td>\n",
       "      <td>2001</td>\n",
       "    </tr>\n",
       "    <tr>\n",
       "      <th>1</th>\n",
       "      <td>2</td>\n",
       "      <td>Los Angeles Lakers</td>\n",
       "      <td>58-24</td>\n",
       "      <td>34-7</td>\n",
       "      <td>24-17</td>\n",
       "      <td>21-9</td>\n",
       "      <td>37-15</td>\n",
       "      <td>33-13</td>\n",
       "      <td>25-11</td>\n",
       "      <td>7-5</td>\n",
       "      <td>33-10</td>\n",
       "      <td>2001</td>\n",
       "    </tr>\n",
       "    <tr>\n",
       "      <th>2</th>\n",
       "      <td>3</td>\n",
       "      <td>San Antonio Spurs</td>\n",
       "      <td>58-24</td>\n",
       "      <td>32-9</td>\n",
       "      <td>26-15</td>\n",
       "      <td>20-10</td>\n",
       "      <td>38-14</td>\n",
       "      <td>31-17</td>\n",
       "      <td>27-7</td>\n",
       "      <td>7-7</td>\n",
       "      <td>34-7</td>\n",
       "      <td>2001</td>\n",
       "    </tr>\n",
       "    <tr>\n",
       "      <th>3</th>\n",
       "      <td>4</td>\n",
       "      <td>Dallas Mavericks</td>\n",
       "      <td>57-25</td>\n",
       "      <td>30-11</td>\n",
       "      <td>27-14</td>\n",
       "      <td>23-7</td>\n",
       "      <td>34-18</td>\n",
       "      <td>35-14</td>\n",
       "      <td>22-11</td>\n",
       "      <td>6-6</td>\n",
       "      <td>31-11</td>\n",
       "      <td>2001</td>\n",
       "    </tr>\n",
       "    <tr>\n",
       "      <th>4</th>\n",
       "      <td>5</td>\n",
       "      <td>New Jersey Nets</td>\n",
       "      <td>52-30</td>\n",
       "      <td>33-8</td>\n",
       "      <td>19-22</td>\n",
       "      <td>35-19</td>\n",
       "      <td>17-11</td>\n",
       "      <td>32-15</td>\n",
       "      <td>20-15</td>\n",
       "      <td>9-6</td>\n",
       "      <td>26-14</td>\n",
       "      <td>2001</td>\n",
       "    </tr>\n",
       "    <tr>\n",
       "      <th>...</th>\n",
       "      <td>...</td>\n",
       "      <td>...</td>\n",
       "      <td>...</td>\n",
       "      <td>...</td>\n",
       "      <td>...</td>\n",
       "      <td>...</td>\n",
       "      <td>...</td>\n",
       "      <td>...</td>\n",
       "      <td>...</td>\n",
       "      <td>...</td>\n",
       "      <td>...</td>\n",
       "      <td>...</td>\n",
       "    </tr>\n",
       "    <tr>\n",
       "      <th>682</th>\n",
       "      <td>26</td>\n",
       "      <td>San Antonio Spurs</td>\n",
       "      <td>22-60</td>\n",
       "      <td>12-29</td>\n",
       "      <td>10-31</td>\n",
       "      <td>8-23</td>\n",
       "      <td>14-37</td>\n",
       "      <td>11-44</td>\n",
       "      <td>11-16</td>\n",
       "      <td>5-7</td>\n",
       "      <td>12-31</td>\n",
       "      <td>2023</td>\n",
       "    </tr>\n",
       "    <tr>\n",
       "      <th>683</th>\n",
       "      <td>27</td>\n",
       "      <td>Charlotte Hornets</td>\n",
       "      <td>21-61</td>\n",
       "      <td>11-30</td>\n",
       "      <td>10-31</td>\n",
       "      <td>14-38</td>\n",
       "      <td>7-23</td>\n",
       "      <td>13-41</td>\n",
       "      <td>8-20</td>\n",
       "      <td>7-3</td>\n",
       "      <td>5-43</td>\n",
       "      <td>2023</td>\n",
       "    </tr>\n",
       "    <tr>\n",
       "      <th>684</th>\n",
       "      <td>28</td>\n",
       "      <td>Portland Trail Blazers</td>\n",
       "      <td>21-61</td>\n",
       "      <td>11-30</td>\n",
       "      <td>10-31</td>\n",
       "      <td>13-17</td>\n",
       "      <td>8-44</td>\n",
       "      <td>15-39</td>\n",
       "      <td>6-22</td>\n",
       "      <td>5-6</td>\n",
       "      <td>5-38</td>\n",
       "      <td>2023</td>\n",
       "    </tr>\n",
       "    <tr>\n",
       "      <th>685</th>\n",
       "      <td>29</td>\n",
       "      <td>Washington Wizards</td>\n",
       "      <td>15-67</td>\n",
       "      <td>7-34</td>\n",
       "      <td>8-33</td>\n",
       "      <td>11-41</td>\n",
       "      <td>4-26</td>\n",
       "      <td>9-45</td>\n",
       "      <td>6-22</td>\n",
       "      <td>4-5</td>\n",
       "      <td>6-35</td>\n",
       "      <td>2023</td>\n",
       "    </tr>\n",
       "    <tr>\n",
       "      <th>686</th>\n",
       "      <td>30</td>\n",
       "      <td>Detroit Pistons</td>\n",
       "      <td>14-68</td>\n",
       "      <td>7-33</td>\n",
       "      <td>7-35</td>\n",
       "      <td>10-41</td>\n",
       "      <td>4-27</td>\n",
       "      <td>8-46</td>\n",
       "      <td>6-22</td>\n",
       "      <td>1-7</td>\n",
       "      <td>8-39</td>\n",
       "      <td>2023</td>\n",
       "    </tr>\n",
       "  </tbody>\n",
       "</table>\n",
       "<p>687 rows × 12 columns</p>\n",
       "</div>"
      ],
      "text/plain": [
       "     Rk                    Team Overall   Home   Road      E      W    Pre  \\\n",
       "0     1        Sacramento Kings   61-21   36-5  25-16   24-6  37-15  37-12   \n",
       "1     2      Los Angeles Lakers   58-24   34-7  24-17   21-9  37-15  33-13   \n",
       "2     3       San Antonio Spurs   58-24   32-9  26-15  20-10  38-14  31-17   \n",
       "3     4        Dallas Mavericks   57-25  30-11  27-14   23-7  34-18  35-14   \n",
       "4     5         New Jersey Nets   52-30   33-8  19-22  35-19  17-11  32-15   \n",
       "..   ..                     ...     ...    ...    ...    ...    ...    ...   \n",
       "682  26       San Antonio Spurs   22-60  12-29  10-31   8-23  14-37  11-44   \n",
       "683  27       Charlotte Hornets   21-61  11-30  10-31  14-38   7-23  13-41   \n",
       "684  28  Portland Trail Blazers   21-61  11-30  10-31  13-17   8-44  15-39   \n",
       "685  29      Washington Wizards   15-67   7-34   8-33  11-41   4-26   9-45   \n",
       "686  30         Detroit Pistons   14-68   7-33   7-35  10-41   4-27   8-46   \n",
       "\n",
       "      Post   ?3    ?10  Year  \n",
       "0     24-9  6-1  39-15  2001  \n",
       "1    25-11  7-5  33-10  2001  \n",
       "2     27-7  7-7   34-7  2001  \n",
       "3    22-11  6-6  31-11  2001  \n",
       "4    20-15  9-6  26-14  2001  \n",
       "..     ...  ...    ...   ...  \n",
       "682  11-16  5-7  12-31  2023  \n",
       "683   8-20  7-3   5-43  2023  \n",
       "684   6-22  5-6   5-38  2023  \n",
       "685   6-22  4-5   6-35  2023  \n",
       "686   6-22  1-7   8-39  2023  \n",
       "\n",
       "[687 rows x 12 columns]"
      ]
     },
     "execution_count": 42,
     "metadata": {},
     "output_type": "execute_result"
    }
   ],
   "source": [
    "## YOUR CODE TO LOAD/CLEAN/TIDY/WRANGLE THE DATA GOES HERE\n",
    "## FEEL FREE TO ADD MULTIPLE CELLS PER SECTION \n",
    "import pandas as pd\n",
    "df_nba_standings = pd.read_csv('NBA_Standings_2001_2023.csv')\n",
    "df_nba_standings"
   ]
  },
  {
   "cell_type": "markdown",
   "metadata": {},
   "source": [
    "## NBA Attendance Report (2001-2023) Dataset"
   ]
  },
  {
   "cell_type": "code",
   "execution_count": null,
   "metadata": {},
   "outputs": [],
   "source": [
    "## YOUR CODE TO LOAD/CLEAN/TIDY/WRANGLE THE DATA GOES HERE\n",
    "## FEEL FREE TO ADD MULTIPLE CELLS PER SECTION \n",
    "df_att_reports = pd.read_csv('nba_attendance_report_2001-2023.csv')"
   ]
  },
  {
   "cell_type": "markdown",
   "metadata": {},
   "source": [
    "## FiveThirtyEight NBA Elo Dataset"
   ]
  },
  {
   "cell_type": "code",
   "execution_count": null,
   "metadata": {},
   "outputs": [],
   "source": [
    "## YOUR CODE TO LOAD/CLEAN/TIDY/WRANGLE THE DATA GOES HERE\n",
    "## FEEL FREE TO ADD MULTIPLE CELLS PER SECTION \n",
    "df_nba_elo = pd.read_csv('nba_elo_no_playoff_column_v2.csv')"
   ]
  },
  {
   "cell_type": "markdown",
   "metadata": {},
   "source": [
    "# Ethics & Privacy"
   ]
  },
  {
   "cell_type": "markdown",
   "metadata": {},
   "source": [
    "[![Deon badge](https://img.shields.io/badge/ethics%20checklist-deon-brightgreen.svg?style=popout-square)](http://deon.drivendata.org/)\n",
    "\n",
    "## **Privacy**\n",
    "We will only use publicly available aggregate data without personally identifiable information, such as ESPN's NBA Attendance Report, which do not contain any personally identifiable information. By doing so, we ensure that privacy risks are mitigated. However, it's important to note that ESPN's attendance data is intended for individual use, and scraping or republishing may violate its terms. To address this, we will explore legitimate avenues for accessing and utilizing the data.\n",
    "\n",
    "## **Bias**\n",
    "Our analysis is subject to several potential biases inherent in the dataset and its collection:\n",
    "- **Quality of Attendance**: Attendance figures do not differentiate between home and away fans. This may lead to inaccurate conclusions about fan loyalty to home teams.\n",
    "- **Differences in Arena Capacity**: Different stadiums have varying capacities, which could skew comparisons of raw attendance figures.\n",
    "- **Economic Disparities**: Cities hosting NBA teams differ in their economic conditions, which may influence attendance through variations of income and ticket prices.\n",
    "- **Major Events**: Shared events, like the COVID-19 pandemic, and local events, like the opening of a new stadium, may significantly impact attendance, and could introduce confounding variables.\n",
    "\n",
    "## **Fairness**\n",
    "Our dataset and analysis could unintentionally favor certain teams or cities due to these biases:\n",
    "- **Economic Inequities**: Teams in wealthier cities may naturally have higher attendance, independent of performance.\n",
    "- **External Events**: Certain teams might experience attendance shifts due to unique events, like the opening of Chase Center for the Golden State Warriors in 2019-2020.\n",
    "  \n",
    "To address these biases, we plan to implement several strategies:\n",
    "1. **Benchmarking Attendance**: To better compare attendance rates across the different teams, a team’s attendance could be measured by taking the proportion of attendees and maximum capacity for a team’s arena.\n",
    "2. **Segmenting Data**: With major events like the COVID pandemic and the NBA lockout (2011-2012 season in which there was a shortage of games), certain seasons could be parsed out if broader factors limiting attendance are at play. We could possibly also look deeper into individual teams that experienced a local major event (such as the 2019-2020 Golden State Warriors, who played out of Chase Center for the first time) to determine if the event played a role in attendance rather than performance alone.\n",
    "3. **Implementation of Control Variables**: By looking at economic indicators (unemployment rate, city population, cost of attendance, etc.), we could control for some external factors at play.\n",
    "\n",
    "## **Transparency**\n",
    "We will ensure transparency by clearly documenting our data sources, methods, and ethical considerations. Limitations and potential biases will be explicitly communicated, including their implications for our conclusions.\n",
    "\n",
    "## **Mitigating Harm**\n",
    "To mitigate potential harm:\n",
    "- We will exclude outlier seasons or events when external factors heavily influence attendance.\n",
    "- By segmenting data and benchmarking attendance, we aim to avoid misleading comparisons and ensure that our analysis reflects the true relationship between team performance and attendance.\n",
    "\n",
    "In conclusion, while our project acknowledges these challenges, we have developed thoughtful strategies to address and mitigate them. This approach will enable us to deliver a robust and equitable analysis of NBA attendance trends."
   ]
  },
  {
   "cell_type": "markdown",
   "metadata": {},
   "source": [
    "# Team Expectations "
   ]
  },
  {
   "cell_type": "markdown",
   "metadata": {},
   "source": [
    "\n",
    "Read over the [COGS108 Team Policies](https://github.com/COGS108/Projects/blob/master/COGS108_TeamPolicies.md) individually. Then, include your group’s expectations of one another for successful completion of your COGS108 project below. Discuss and agree on what all of your expectations are. Discuss how your team will communicate throughout the quarter and consider how you will communicate respectfully should conflicts arise. By including each member’s name above and by adding their name to the submission, you are indicating that you have read the COGS108 Team Policies, accept your team’s expectations below, and have every intention to fulfill them. These expectations are for your team’s use and benefit — they won’t be graded for their details.\n",
    "\n",
    "* Team Communication:\n",
    "Our main communication channels will be Zoom, text, and email. We’ll meet in person weekly to discuss current and upcoming tasks, with virtual meetings as needed to stay on track. We expect responses within 24 hours to maintain progress.\n",
    "* Tone & Feedback:\n",
    "Our approach will be honest but polite, encouraging direct, respectful feedback to keep ideas flowing and ensure everyone’s voice is heard. If someone spots a gap, they’ll bring it up constructively, and others will contribute their perspectives.\n",
    "\n",
    "* Decision-Making:\n",
    "Jaden Urias will serve as team lead, guiding the group’s progress. Most decisions will be made unanimously, but Jaden will facilitate when needed. If someone is temporarily unavailable, work will continue within designated pairs or trios, ensuring continuity and support.\n",
    "\n",
    "* Task Assignments:\n",
    "Each member will focus on tasks aligned with their strengths (e.g., programming, research). Jaden Urias (leadership/editing/research), Andrew Hahn (programming), Katie Kim (programming/research), Sydney Nichol (fill), and Aiden Carbonell (fill) will coordinate their roles weekly. Task tracking will be managed via GitHub Issues.\n",
    "\n",
    "* Timeline & Support:\n",
    "Our project timeline is structured but flexible, allowing us to adapt as needed. Paired assignments will help members support each other, so if someone needs assistance, they can rely on their partner or seek help through group chat after a reasonable effort.\n",
    "\n",
    "* Expectations Reminder:\n",
    "These guidelines will be pinned in our Discord group for reference throughout the project."
   ]
  },
  {
   "cell_type": "markdown",
   "metadata": {},
   "source": [
    "# Project Timeline Proposal"
   ]
  },
  {
   "cell_type": "markdown",
   "metadata": {},
   "source": [
    "Specify your team's specific project timeline. An example timeline has been provided. Changes the dates, times, names, and details to fit your group's plan.\n",
    "\n",
    "If you think you will need any special resources or training outside what we have covered in COGS 108 to solve your problem, then your proposal should state these clearly. For example, if you have selected a problem that involves implementing multiple neural networks, please state this so we can make sure you know what you’re doing and so we can point you to resources you will need to implement your project. Note that you are not required to use outside methods.\n",
    "\n",
    "\n",
    "\n",
    "| Meeting Date  | Meeting Time| Completed Before Meeting  | Discuss at Meeting |\n",
    "|---|---|---|---|\n",
    "| 10/30  | 1 PM | Discuss ideal dataset(s) and ethics; draft project proposal | Edit, finalize, and submit proposal; Search for datasets |\n",
    "| 11/6  |  1 PM |  Assign group members to lead each specific part | Discuss Wrangling and possible analytical approaches | \n",
    "| 11/13 | 1 PM  | Import & Wrangle Data; EDA  | Review/Edit wrangling/EDA; Discuss Analysis Plan   |\n",
    "| 11/20  | 1 PM  | Finalize wrangling/EDA; Begin Analysis | Discuss/edit Analysis; Complete project check-in   |\n",
    "| 11/27  | 1 PM  | Complete analysis; Draft results/conclusion/discussion | Discuss/edit full project |\n",
    "| 12/4  | 1 PM  | Finalize project review by everyone| Discuss thoughts on completed project |\n",
    "| 12/11  | Before 11:59 PM  | NA | Turn in Final Project & Group Project Surveys |"
   ]
  }
 ],
 "metadata": {
  "kernelspec": {
   "display_name": "Python 3 (ipykernel)",
   "language": "python",
   "name": "python3"
  },
  "language_info": {
   "codemirror_mode": {
    "name": "ipython",
    "version": 3
   },
   "file_extension": ".py",
   "mimetype": "text/x-python",
   "name": "python",
   "nbconvert_exporter": "python",
   "pygments_lexer": "ipython3",
   "version": "3.12.4"
  }
 },
 "nbformat": 4,
 "nbformat_minor": 4
}
